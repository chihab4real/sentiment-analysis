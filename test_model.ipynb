{
 "cells": [
  {
   "cell_type": "markdown",
   "id": "752a134c",
   "metadata": {},
   "source": [
    "# NLP Project - Model Testing\n",
    "## Sentiment Analysis with BERT on Movie Reviews\n",
    "\n",
    "[IMDB Dataset of 50K Movie Reviews](https://www.kaggle.com/datasets/lakshmi25npathi/imdb-dataset-of-50k-movie-reviews)\n",
    "\n",
    "Team Memebers:\n",
    "- Chihabeddine Zitouni\n",
    "- Patrick Molina\n",
    "- Małgorzata Gierdewicz"
   ]
  },
  {
   "cell_type": "code",
   "execution_count": 1,
   "id": "1a6204c8",
   "metadata": {},
   "outputs": [],
   "source": [
    "import unittest\n",
    "import pandas as pd\n",
    "from transformers import BertTokenizer\n",
    "import subprocess\n",
    "import sys\n",
    "\n",
    "import Utils as utils"
   ]
  },
  {
   "cell_type": "markdown",
   "id": "f407e23f",
   "metadata": {},
   "source": [
    "## 1. Unit Testing"
   ]
  },
  {
   "cell_type": "code",
   "execution_count": 2,
   "id": "c3362239",
   "metadata": {},
   "outputs": [],
   "source": [
    "tc = unittest.TestCase()"
   ]
  },
  {
   "cell_type": "markdown",
   "id": "d00b0c9b",
   "metadata": {},
   "source": [
    "- Cleaning Text from HTML test"
   ]
  },
  {
   "cell_type": "code",
   "execution_count": 3,
   "id": "1ea848db",
   "metadata": {},
   "outputs": [],
   "source": [
    "raw_text = \"<p>Hello!! This is <b>GREAT</b> movie. :)</p>\"\n",
    "expected = \"hello this is great movie\"\n",
    "\n",
    "result  = utils.clean_text(raw_text)\n",
    "tc.assertEqual(result, expected)"
   ]
  },
  {
   "cell_type": "markdown",
   "id": "6bd0410f",
   "metadata": {},
   "source": [
    "- Test labels mapping"
   ]
  },
  {
   "cell_type": "code",
   "execution_count": 4,
   "id": "02f63b2d",
   "metadata": {},
   "outputs": [],
   "source": [
    "df = pd.DataFrame({'sentiment': ['positive', 'negative', 'positive']})\n",
    "mapping = {'positive': 1, 'negative': 0}\n",
    "mapped = utils.map_labels(df.copy(), 'sentiment', mapping)\n",
    "tc.assertListEqual(mapped['sentiment'].tolist(), [1, 0, 1])"
   ]
  },
  {
   "cell_type": "markdown",
   "id": "ff03b4d6",
   "metadata": {},
   "source": [
    "## 2. Flake8"
   ]
  },
  {
   "cell_type": "code",
   "execution_count": 5,
   "id": "310b8fab",
   "metadata": {},
   "outputs": [
    {
     "name": "stdout",
     "output_type": "stream",
     "text": [
      "Requirement already satisfied: flake8 in c:\\users\\pc\\appdata\\local\\programs\\python\\python311\\lib\\site-packages (7.2.0)\n",
      "Requirement already satisfied: mccabe<0.8.0,>=0.7.0 in c:\\users\\pc\\appdata\\local\\programs\\python\\python311\\lib\\site-packages (from flake8) (0.7.0)\n",
      "Requirement already satisfied: pycodestyle<2.14.0,>=2.13.0 in c:\\users\\pc\\appdata\\local\\programs\\python\\python311\\lib\\site-packages (from flake8) (2.13.0)\n",
      "Requirement already satisfied: pyflakes<3.4.0,>=3.3.0 in c:\\users\\pc\\appdata\\local\\programs\\python\\python311\\lib\\site-packages (from flake8) (3.3.2)\n",
      "Note: you may need to restart the kernel to use updated packages.\n"
     ]
    },
    {
     "name": "stderr",
     "output_type": "stream",
     "text": [
      "\n",
      "[notice] A new release of pip is available: 24.3.1 -> 25.1.1\n",
      "[notice] To update, run: python.exe -m pip install --upgrade pip\n"
     ]
    }
   ],
   "source": [
    "%pip install flake8"
   ]
  },
  {
   "cell_type": "code",
   "execution_count": 6,
   "id": "c6987ee6",
   "metadata": {},
   "outputs": [
    {
     "name": "stdout",
     "output_type": "stream",
     "text": [
      "\n"
     ]
    }
   ],
   "source": [
    "result = subprocess.run([sys.executable, \"-m\", \"flake8\", \"Utils.py\"], capture_output=True, text=True)\n",
    "print(result.stdout)"
   ]
  },
  {
   "cell_type": "code",
   "execution_count": 7,
   "id": "373ebffd",
   "metadata": {},
   "outputs": [
    {
     "name": "stdout",
     "output_type": "stream",
     "text": [
      "\n"
     ]
    }
   ],
   "source": [
    "result = subprocess.run([sys.executable, \"-m\", \"flake8\", \"train_model.py\"], capture_output=True, text=True)\n",
    "print(result.stdout)"
   ]
  },
  {
   "cell_type": "markdown",
   "id": "228b8e5c",
   "metadata": {},
   "source": [
    "## 3. mypy"
   ]
  },
  {
   "cell_type": "code",
   "execution_count": 8,
   "id": "5d7c3c49",
   "metadata": {},
   "outputs": [
    {
     "name": "stdout",
     "output_type": "stream",
     "text": [
      "Note: you may need to restart the kernel to use updated packages.Requirement already satisfied: mypy in c:\\users\\pc\\appdata\\local\\programs\\python\\python311\\lib\\site-packages (1.15.0)\n",
      "Requirement already satisfied: typing_extensions>=4.6.0 in c:\\users\\pc\\appdata\\local\\programs\\python\\python311\\lib\\site-packages (from mypy) (4.12.2)\n",
      "Requirement already satisfied: mypy_extensions>=1.0.0 in c:\\users\\pc\\appdata\\local\\programs\\python\\python311\\lib\\site-packages (from mypy) (1.0.0)\n",
      "\n"
     ]
    },
    {
     "name": "stderr",
     "output_type": "stream",
     "text": [
      "\n",
      "[notice] A new release of pip is available: 24.3.1 -> 25.1.1\n",
      "[notice] To update, run: python.exe -m pip install --upgrade pip\n"
     ]
    }
   ],
   "source": [
    "%pip install mypy"
   ]
  },
  {
   "cell_type": "code",
   "execution_count": 9,
   "id": "d0df01be",
   "metadata": {},
   "outputs": [
    {
     "name": "stdout",
     "output_type": "stream",
     "text": [
      "\u001b[1m\u001b[92mSuccess: no issues found in 1 source file\u001b[0m\n",
      "\n"
     ]
    }
   ],
   "source": [
    "result = subprocess.run([sys.executable, \"-m\", \"mypy\", \"Utils.py\"], capture_output=True, text=True)\n",
    "print(result.stdout)"
   ]
  },
  {
   "cell_type": "code",
   "execution_count": 10,
   "id": "a9663825",
   "metadata": {},
   "outputs": [
    {
     "name": "stdout",
     "output_type": "stream",
     "text": [
      "\u001b[1m\u001b[92mSuccess: no issues found in 1 source file\u001b[0m\n",
      "\n"
     ]
    }
   ],
   "source": [
    "result = subprocess.run([sys.executable, \"-m\", \"mypy\", \"train_model.py\"], capture_output=True, text=True)\n",
    "print(result.stdout)"
   ]
  },
  {
   "cell_type": "markdown",
   "id": "3ddcdfa6",
   "metadata": {},
   "source": [
    "## 4. Model Testing with Extra analysis "
   ]
  },
  {
   "cell_type": "code",
   "execution_count": 15,
   "id": "dec76ef4",
   "metadata": {},
   "outputs": [],
   "source": [
    "import torch\n",
    "from transformers import BertTokenizer, BertForSequenceClassification"
   ]
  },
  {
   "cell_type": "code",
   "execution_count": 22,
   "id": "e47e6148",
   "metadata": {},
   "outputs": [
    {
     "name": "stdout",
     "output_type": "stream",
     "text": [
      "Using device: cuda\n"
     ]
    }
   ],
   "source": [
    "device = torch.device(\"cuda\" if torch.cuda.is_available() else \"cpu\")\n",
    "print(f\"Using device: {device}\")"
   ]
  },
  {
   "cell_type": "code",
   "execution_count": null,
   "id": "f0959172",
   "metadata": {},
   "outputs": [],
   "source": [
    "MODEL_PATH = './models/sentiment_analysis_model_3EP_1705_153705.pth'\n",
    "TOKENIZER_PATH = './models/tokenizer'\n",
    "TEST_DATA_PATH = 'cleaned_splitted_data/test_dataset.csv'\n",
    "MAX_LENGTH = 128"
   ]
  },
  {
   "cell_type": "code",
   "execution_count": null,
   "id": "8de33e2f",
   "metadata": {},
   "outputs": [],
   "source": [
    "tokenizer = BertTokenizer.from_pretrained(TOKENIZER_PATH)\n",
    "model = BertForSequenceClassification.from_pretrained('bert-base-uncased', num_labels=2)\n",
    "model.load_state_dict(torch.load(MODEL_PATH, map_location=device))\n",
    "model.to(device)\n",
    "model.eval()"
   ]
  },
  {
   "cell_type": "code",
   "execution_count": null,
   "id": "899d5306",
   "metadata": {},
   "outputs": [
    {
     "data": {
      "text/plain": [
       "10000"
      ]
     },
     "execution_count": 37,
     "metadata": {},
     "output_type": "execute_result"
    }
   ],
   "source": [
    "test_set = pd.read_csv(TEST_DATA_PATH)\n",
    "test_set.head()"
   ]
  },
  {
   "cell_type": "code",
   "execution_count": null,
   "id": "84a951bc",
   "metadata": {},
   "outputs": [
    {
     "data": {
      "text/html": [
       "<div>\n",
       "<style scoped>\n",
       "    .dataframe tbody tr th:only-of-type {\n",
       "        vertical-align: middle;\n",
       "    }\n",
       "\n",
       "    .dataframe tbody tr th {\n",
       "        vertical-align: top;\n",
       "    }\n",
       "\n",
       "    .dataframe thead th {\n",
       "        text-align: right;\n",
       "    }\n",
       "</style>\n",
       "<table border=\"1\" class=\"dataframe\">\n",
       "  <thead>\n",
       "    <tr style=\"text-align: right;\">\n",
       "      <th></th>\n",
       "      <th>review</th>\n",
       "      <th>sentiment</th>\n",
       "    </tr>\n",
       "  </thead>\n",
       "  <tbody>\n",
       "  </tbody>\n",
       "</table>\n",
       "</div>"
      ],
      "text/plain": [
       "Empty DataFrame\n",
       "Columns: [review, sentiment]\n",
       "Index: []"
      ]
     },
     "execution_count": 33,
     "metadata": {},
     "output_type": "execute_result"
    }
   ],
   "source": [
    "edge_cases = test_set.copy()\n",
    "edge_cases = edge_cases.iloc[0:0]"
   ]
  },
  {
   "cell_type": "code",
   "execution_count": 40,
   "id": "108fe947",
   "metadata": {},
   "outputs": [],
   "source": [
    "for index, row in test_set.iterrows():\n",
    "    \n",
    "    text = row['review']\n",
    "    real_value = row['sentiment']\n",
    "\n",
    "    inputs = tokenizer(text, return_tensors='pt', max_length=MAX_LENGTH, truncation=True, padding='max_length')\n",
    "    inputs = {key: val.to(device) for key, val in inputs.items()}\n",
    "\n",
    "    predicted_class = utils.predict_sentiment(model, tokenizer, device, MAX_LENGTH, text)\n",
    "\n",
    "    if predicted_class == 'Positive':\n",
    "        predicted_value = 1\n",
    "    else:\n",
    "        predicted_value = 0\n",
    "\n",
    "    if predicted_value != real_value:\n",
    "        edge_cases = pd.concat([edge_cases, pd.DataFrame([row])], ignore_index=True)"
   ]
  },
  {
   "cell_type": "code",
   "execution_count": 51,
   "id": "f3dfa738",
   "metadata": {},
   "outputs": [
    {
     "data": {
      "text/html": [
       "<div>\n",
       "<style scoped>\n",
       "    .dataframe tbody tr th:only-of-type {\n",
       "        vertical-align: middle;\n",
       "    }\n",
       "\n",
       "    .dataframe tbody tr th {\n",
       "        vertical-align: top;\n",
       "    }\n",
       "\n",
       "    .dataframe thead th {\n",
       "        text-align: right;\n",
       "    }\n",
       "</style>\n",
       "<table border=\"1\" class=\"dataframe\">\n",
       "  <thead>\n",
       "    <tr style=\"text-align: right;\">\n",
       "      <th></th>\n",
       "      <th>review</th>\n",
       "      <th>sentiment</th>\n",
       "    </tr>\n",
       "  </thead>\n",
       "  <tbody>\n",
       "    <tr>\n",
       "      <th>0</th>\n",
       "      <td>i really liked this summerslam due to the look...</td>\n",
       "      <td>1</td>\n",
       "    </tr>\n",
       "    <tr>\n",
       "      <th>1</th>\n",
       "      <td>not many television shows appeal to quite as m...</td>\n",
       "      <td>1</td>\n",
       "    </tr>\n",
       "    <tr>\n",
       "      <th>2</th>\n",
       "      <td>the film quickly gets to a major chase scene w...</td>\n",
       "      <td>0</td>\n",
       "    </tr>\n",
       "    <tr>\n",
       "      <th>3</th>\n",
       "      <td>jane austen would definitely approve of this o...</td>\n",
       "      <td>1</td>\n",
       "    </tr>\n",
       "    <tr>\n",
       "      <th>4</th>\n",
       "      <td>expectations were somewhat high for me when i ...</td>\n",
       "      <td>0</td>\n",
       "    </tr>\n",
       "  </tbody>\n",
       "</table>\n",
       "</div>"
      ],
      "text/plain": [
       "                                              review  sentiment\n",
       "0  i really liked this summerslam due to the look...          1\n",
       "1  not many television shows appeal to quite as m...          1\n",
       "2  the film quickly gets to a major chase scene w...          0\n",
       "3  jane austen would definitely approve of this o...          1\n",
       "4  expectations were somewhat high for me when i ...          0"
      ]
     },
     "execution_count": 51,
     "metadata": {},
     "output_type": "execute_result"
    }
   ],
   "source": [
    "edge_cases.head()"
   ]
  },
  {
   "cell_type": "code",
   "execution_count": 49,
   "id": "dd3bfb49",
   "metadata": {},
   "outputs": [
    {
     "name": "stdout",
     "output_type": "stream",
     "text": [
      "Model accuracy on test set:\n",
      "78.41 %\n"
     ]
    }
   ],
   "source": [
    "print(f\"Model accuracy on test set:\\n{100 - (len(edge_cases)/len(test_set)*100)} %\")"
   ]
  },
  {
   "cell_type": "markdown",
   "id": "60ebf8ee",
   "metadata": {},
   "source": [
    "- Test with Personal review"
   ]
  },
  {
   "cell_type": "code",
   "execution_count": 50,
   "id": "ce8eb93c",
   "metadata": {},
   "outputs": [
    {
     "name": "stdout",
     "output_type": "stream",
     "text": [
      "Predicted sentiment for my review: Positive\n"
     ]
    }
   ],
   "source": [
    "my_review = \"This is a great movie. I love it!\"\n",
    "predicted_class = utils.predict_sentiment(model, tokenizer, device, MAX_LENGTH, my_review)\n",
    "print(f\"Predicted sentiment for my review: {predicted_class}\")"
   ]
  }
 ],
 "metadata": {
  "kernelspec": {
   "display_name": "Python 3",
   "language": "python",
   "name": "python3"
  },
  "language_info": {
   "codemirror_mode": {
    "name": "ipython",
    "version": 3
   },
   "file_extension": ".py",
   "mimetype": "text/x-python",
   "name": "python",
   "nbconvert_exporter": "python",
   "pygments_lexer": "ipython3",
   "version": "3.11.9"
  }
 },
 "nbformat": 4,
 "nbformat_minor": 5
}
